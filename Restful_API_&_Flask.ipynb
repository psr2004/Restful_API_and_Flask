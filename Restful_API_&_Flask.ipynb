{
  "nbformat": 4,
  "nbformat_minor": 0,
  "metadata": {
    "colab": {
      "provenance": [],
      "collapsed_sections": [
        "fGpYaNR-HmAG"
      ]
    },
    "kernelspec": {
      "name": "python3",
      "display_name": "Python 3"
    },
    "language_info": {
      "name": "python"
    }
  },
  "cells": [
    {
      "cell_type": "markdown",
      "source": [
        "# **Theoretical Questions**"
      ],
      "metadata": {
        "id": "fGpYaNR-HmAG"
      }
    },
    {
      "cell_type": "markdown",
      "source": [
        "\n",
        "1. What is a RESTful API?\n",
        "* A RESTful API is an application programming interface that uses HTTP requests to access and manipulate resources, following the principles of Representational State Transfer (REST) for stateless, client-server communication.\n",
        "\n",
        "2. Explain the concept of API specification.\n",
        "* An API specification is a formal document that describes the endpoints, request/response formats, parameters, authentication methods, and behaviors of an API, serving as a contract between the API and its consumers.\n",
        "\n",
        "3. What is Flask, and why is it popular for building APIs?\n",
        "* Flask is a lightweight Python web framework known for its simplicity and flexibility, making it popular for building APIs because it provides the essentials for routing, request handling, and extensions without imposing a rigid structure.\n",
        "\n",
        "4. What is routing in Flask?\n",
        "* Routing in Flask is the process of mapping URLs to Python functions, allowing the framework to call the appropriate function when a client makes a request to a specific endpoint.\n",
        "\n",
        "5. How do you create a simple Flask application?\n",
        "* A simple Flask application is created by installing Flask, importing the Flask class, instantiating an app object, defining route-decorated view functions, and running the development server with app.run().\n",
        "\n",
        "6. What are HTTP methods used in RESTful APIs?\n",
        "* Common HTTP methods in RESTful APIs include GET for retrieving resources, POST for creating new resources, PUT/PATCH for updating resources, and DELETE for removing resources.\n",
        "\n",
        "7. What is the purpose of the @app.route() decorator in Flask?\n",
        "* The @app.route() decorator registers a URL rule for a view function, specifying the endpoint path and HTTP methods that the function will handle.\n",
        "\n",
        "8. What is the difference between GET and POST HTTP methods?\n",
        "* GET requests retrieve data and should have no side effects, while POST requests submit data to the server to create or modify resources and may change server state.\n",
        "\n",
        "9. How do you handle errors in Flask APIs?\n",
        "* Errors in Flask can be handled using error handler decorators like @app.errorhandler(), custom exception classes, and returning appropriate HTTP status codes and JSON error messages.\n",
        "\n",
        "10. How do you connect Flask to a SQL database?\n",
        "* You can connect Flask to a SQL database by configuring the database URI in app.config and using an ORM like Flask-SQLAlchemy or a direct database driver (e.g., psycopg2) to manage connections and queries.\n",
        "\n",
        "11. What is the role of Flask-SQLAlchemy?\n",
        "* Flask-SQLAlchemy integrates the SQLAlchemy ORM with Flask, providing a high-level API for defining data models, handling sessions, and performing database operations seamlessly within a Flask application.\n",
        "\n",
        "12. What are Flask blueprints, and how are they useful?\n",
        "* Flask blueprints are components for organizing related routes, views, and static files into modules, enabling scalable, modular application structure and reuse across multiple apps.\n",
        "\n",
        "13. What is the purpose of Flask's request object?\n",
        "* The Flask request object encapsulates client request data, including form fields, JSON payloads, headers, and query parameters, allowing view functions to access and process incoming data.\n",
        "\n",
        "14. How do you create a RESTful API endpoint using Flask?\n",
        "* A RESTful API endpoint in Flask is created by defining a view function, decorating it with @app.route() including the desired HTTP methods, and returning data in formats like JSON using jsonify().\n",
        "\n",
        "15. What is the purpose of Flask's jsonify() function?\n",
        "* The jsonify() function converts Python dictionaries or lists into a JSON-formatted Response object with the correct MIME type, simplifying the process of returning JSON data from API endpoints.\n",
        "\n",
        "16. Explain Flask’s url_for() function.\n",
        "* The url_for() function generates URLs for view functions based on their endpoint names and parameters, promoting dynamic URL building and avoiding hard-coded paths.\n",
        "\n",
        "17. How does Flask handle static files (CSS, JavaScript, etc.)?\n",
        "* Flask serves static files from the /static directory by default, mapping requests to /static/<path> to files in the static folder without requiring explicit route definitions.\n",
        "\n",
        "18. What is an API specification, and how does it help in building a Flask API?\n",
        "* An API specification (e.g., OpenAPI/Swagger) provides a machine-readable definition of API endpoints, enabling automated documentation, client code generation, and validation during Flask API development.\n",
        "\n",
        "19. What are HTTP status codes, and why are they important in a Flask API?\n",
        "* HTTP status codes indicate the outcome of requests (e.g., 200 OK, 404 Not Found, 500 Internal Server Error) and are important for clients to understand whether operations succeeded or failed.\n",
        "\n",
        "20. How do you handle POST requests in Flask?\n",
        "* POST requests in Flask are handled by defining a view function with methods=['POST'], accessing submitted data via request.form or request.get_json(), processing it, and returning a response.\n",
        "\n",
        "21. How would you secure a Flask API?\n",
        "* Securing a Flask API can involve using HTTPS, authentication and authorization mechanisms (e.g., JWT, OAuth), input validation, rate limiting, and secure configuration practices to protect endpoints and data.\n",
        "\n",
        "22. What is the significance of the Flask-RESTful extension?\n",
        "* Flask-RESTful is an extension that adds support for quickly building REST APIs by providing resource classes, request parsing, and automatic endpoint routing based on resource definitions.\n",
        "\n",
        "23. What is the role of Flask’s session object?\n",
        "* The session object in Flask stores user-specific data between requests on the server side or using secure cookies on the client side, typically used for login sessions and temporary data storage.\n"
      ],
      "metadata": {
        "id": "jEhj4THFHmpQ"
      }
    },
    {
      "cell_type": "markdown",
      "source": [
        "# **Practical Questions**"
      ],
      "metadata": {
        "id": "3zXebjtjLT_Q"
      }
    },
    {
      "cell_type": "code",
      "source": [
        "# Q1: How do you create a basic Flask application?\n",
        "from flask import Flask\n",
        "\n",
        "app = Flask(__name__)\n",
        "\n",
        "@app.route('/')\n",
        "def home():\n",
        "    return \"Hello, Flask!\"\n",
        "\n",
        "if __name__ == '__main__':\n",
        "    app.run(debug=True)\n"
      ],
      "metadata": {
        "colab": {
          "base_uri": "https://localhost:8080/"
        },
        "id": "NZMgcE-SOg3q",
        "outputId": "2a2b5a1a-55e5-4df4-fd00-a073e167e42c"
      },
      "execution_count": 1,
      "outputs": [
        {
          "output_type": "stream",
          "name": "stdout",
          "text": [
            " * Serving Flask app '__main__'\n",
            " * Debug mode: on\n"
          ]
        },
        {
          "output_type": "stream",
          "name": "stderr",
          "text": [
            "INFO:werkzeug:\u001b[31m\u001b[1mWARNING: This is a development server. Do not use it in a production deployment. Use a production WSGI server instead.\u001b[0m\n",
            " * Running on http://127.0.0.1:5000\n",
            "INFO:werkzeug:\u001b[33mPress CTRL+C to quit\u001b[0m\n",
            "INFO:werkzeug: * Restarting with stat\n"
          ]
        }
      ]
    },
    {
      "cell_type": "code",
      "source": [
        "# Q2: How do you serve static files like images or CSS in Flask?\n",
        "# Place files under a folder named \"static/\", e.g. static/style.css and static/logo.png\n",
        "# Or in templates reference: <link rel=\"stylesheet\" href=\"{{ url_for('static', filename='style.css') }}\">\n",
        "from flask import Flask, send_from_directory\n",
        "\n",
        "app = Flask(__name__)\n",
        "\n",
        "@app.route('/logo')\n",
        "def logo():\n",
        "    return send_from_directory('static', 'logo.png')\n",
        ""
      ],
      "metadata": {
        "id": "56YevDc-PgQa"
      },
      "execution_count": 18,
      "outputs": []
    },
    {
      "cell_type": "code",
      "source": [
        "# Q3: How do you define different routes with different HTTP methods in Flask?\n",
        "from flask import Flask, request\n",
        "\n",
        "app = Flask(__name__)\n",
        "\n",
        "@app.route('/items', methods=['GET'])\n",
        "def list_items():\n",
        "    return \"Listing items\"\n",
        "\n",
        "@app.route('/items', methods=['POST'])\n",
        "def create_item():\n",
        "    data = request.get_json()\n",
        "    return f\"Created item: {data}\", 201\n"
      ],
      "metadata": {
        "id": "YwAC0p8LPhH-"
      },
      "execution_count": 4,
      "outputs": []
    },
    {
      "cell_type": "code",
      "source": [
        "# Q4: How do you render HTML templates in Flask?\n",
        "from flask import Flask, render_template\n",
        "\n",
        "app = Flask(__name__)\n",
        "\n",
        "@app.route('/hello/<name>')\n",
        "def hello(name):\n",
        "    return render_template('hello.html', user=name)\n",
        "    # hello.html:\n",
        "    # <!doctype html>\n",
        "    # <h1>Hello, {{ user }}!</h1>\n"
      ],
      "metadata": {
        "id": "F6QuGa-MPh1z"
      },
      "execution_count": 5,
      "outputs": []
    },
    {
      "cell_type": "code",
      "source": [
        "# Q5: How can you generate URLs for routes in Flask using url_for?\n",
        "from flask import Flask, url_for\n",
        "\n",
        "app = Flask(__name__)\n",
        "\n",
        "@app.route('/profile/<username>')\n",
        "def profile(username):\n",
        "    return f\"Profile: {username}\"\n",
        "\n",
        "with app.test_request_context():\n",
        "    print(url_for('profile', username='suneeth'))  # Outputs: /profile/suneeth\n"
      ],
      "metadata": {
        "colab": {
          "base_uri": "https://localhost:8080/"
        },
        "id": "VxZK35A9Pil1",
        "outputId": "736b66f3-0c08-4171-f02f-60e77e40409a"
      },
      "execution_count": 6,
      "outputs": [
        {
          "output_type": "stream",
          "name": "stdout",
          "text": [
            "/profile/suneeth\n"
          ]
        }
      ]
    },
    {
      "cell_type": "code",
      "source": [
        "# Q6: How do you handle forms in Flask?\n",
        "from flask import Flask, request, render_template\n",
        "\n",
        "app = Flask(__name__)\n",
        "\n",
        "@app.route('/submit', methods=['GET', 'POST'])\n",
        "def submit():\n",
        "    if request.method == 'POST':\n",
        "        name = request.form['name']\n",
        "        return f\"Received name: {name}\"\n",
        "    return render_template('form.html')\n",
        "    # form.html:\n",
        "    # <form method=\"post\">\n",
        "    #   <input name=\"name\">\n",
        "    #   <button type=\"submit\">Send</button>\n",
        "    # </form>\n"
      ],
      "metadata": {
        "id": "2Vyjq9v3PjXN"
      },
      "execution_count": 7,
      "outputs": []
    },
    {
      "cell_type": "code",
      "source": [
        "# Q7: How can you validate form data in Flask?\n",
        "\n",
        "!pip install WTForms Flask-WTF\n",
        "from flask import Flask, request, render_template_string\n",
        "from wtforms import Form, StringField, IntegerField, validators\n",
        "\n",
        "app = Flask(__name__)\n",
        "\n",
        "# Define a WTForms form with validation rules\n",
        "class UserForm(Form):\n",
        "    name = StringField('Name', [\n",
        "        validators.InputRequired(message=\"Name is required\"),\n",
        "        validators.Length(min=3, message=\"Name must be at least 3 characters\")\n",
        "    ])\n",
        "    age = IntegerField('Age', [\n",
        "        validators.InputRequired(message=\"Age is required\"),\n",
        "        validators.NumberRange(min=1, max=120, message=\"Age must be between 1 and 120\")\n",
        "    ])\n",
        "\n",
        "@app.route('/validate', methods=['GET', 'POST'])\n",
        "def validate():\n",
        "    form = UserForm(request.form)\n",
        "    if request.method == 'POST' and form.validate():\n",
        "        # Form data is valid\n",
        "        return f\"Valid input! Name: {form.name.data}, Age: {form.age.data}\"\n",
        "    # Render a simple HTML form and display validation errors\n",
        "    return render_template_string('''\n",
        "        <form method=\"post\">\n",
        "          <label>{{ form.name.label }}:</label> {{ form.name(size=20) }}<br>\n",
        "          {% for err in form.name.errors %}<small style=\"color:red\">{{ err }}</small><br>{% endfor %}\n",
        "          <label>{{ form.age.label }}:</label> {{ form.age() }}<br>\n",
        "          {% for err in form.age.errors %}<small style=\"color:red\">{{ err }}</small><br>{% endfor %}\n",
        "          <button type=\"submit\">Submit</button>\n",
        "        </form>\n",
        "    ''', form=form)\n",
        "\n",
        "if __name__ == '__main__':\n",
        "    app.run(debug=True)\n"
      ],
      "metadata": {
        "colab": {
          "base_uri": "https://localhost:8080/"
        },
        "id": "RMEWUWhrPkDU",
        "outputId": "82076d40-4cf9-42f4-ce8f-eb024aff94c0"
      },
      "execution_count": 8,
      "outputs": [
        {
          "output_type": "stream",
          "name": "stdout",
          "text": [
            "Collecting WTForms\n",
            "  Downloading wtforms-3.2.1-py3-none-any.whl.metadata (5.3 kB)\n",
            "Collecting Flask-WTF\n",
            "  Downloading flask_wtf-1.2.2-py3-none-any.whl.metadata (3.4 kB)\n",
            "Requirement already satisfied: markupsafe in /usr/local/lib/python3.11/dist-packages (from WTForms) (3.0.2)\n",
            "Requirement already satisfied: flask in /usr/local/lib/python3.11/dist-packages (from Flask-WTF) (3.1.0)\n",
            "Requirement already satisfied: itsdangerous in /usr/local/lib/python3.11/dist-packages (from Flask-WTF) (2.2.0)\n",
            "Requirement already satisfied: Werkzeug>=3.1 in /usr/local/lib/python3.11/dist-packages (from flask->Flask-WTF) (3.1.3)\n",
            "Requirement already satisfied: Jinja2>=3.1.2 in /usr/local/lib/python3.11/dist-packages (from flask->Flask-WTF) (3.1.6)\n",
            "Requirement already satisfied: click>=8.1.3 in /usr/local/lib/python3.11/dist-packages (from flask->Flask-WTF) (8.1.8)\n",
            "Requirement already satisfied: blinker>=1.9 in /usr/local/lib/python3.11/dist-packages (from flask->Flask-WTF) (1.9.0)\n",
            "Downloading wtforms-3.2.1-py3-none-any.whl (152 kB)\n",
            "\u001b[2K   \u001b[90m━━━━━━━━━━━━━━━━━━━━━━━━━━━━━━━━━━━━━━━━\u001b[0m \u001b[32m152.5/152.5 kB\u001b[0m \u001b[31m3.0 MB/s\u001b[0m eta \u001b[36m0:00:00\u001b[0m\n",
            "\u001b[?25hDownloading flask_wtf-1.2.2-py3-none-any.whl (12 kB)\n",
            "Installing collected packages: WTForms, Flask-WTF\n",
            "Successfully installed Flask-WTF-1.2.2 WTForms-3.2.1\n",
            " * Serving Flask app '__main__'\n",
            " * Debug mode: on\n"
          ]
        },
        {
          "output_type": "stream",
          "name": "stderr",
          "text": [
            "INFO:werkzeug:\u001b[31m\u001b[1mWARNING: This is a development server. Do not use it in a production deployment. Use a production WSGI server instead.\u001b[0m\n",
            " * Running on http://127.0.0.1:5000\n",
            "INFO:werkzeug:\u001b[33mPress CTRL+C to quit\u001b[0m\n",
            "INFO:werkzeug: * Restarting with stat\n"
          ]
        }
      ]
    },
    {
      "cell_type": "code",
      "source": [
        "# Q8: How do you manage sessions in Flask?\n",
        "from flask import Flask, session, redirect, url_for\n",
        "\n",
        "app = Flask(__name__)\n",
        "app.secret_key = 's3cr3t'\n",
        "\n",
        "@app.route('/login')\n",
        "def login():\n",
        "    session['user'] = 'alice'\n",
        "    return redirect(url_for('profile'))\n",
        "\n",
        "@app.route('/profile')\n",
        "def profile():\n",
        "    user = session.get('user', 'Guest')\n",
        "    return f\"Logged in as {user}\"\n",
        "\n",
        "@app.route('/logout')\n",
        "def logout():\n",
        "    session.pop('user', None)\n",
        "    return 'Logged out'\n"
      ],
      "metadata": {
        "id": "9Y12W0qzPlpe"
      },
      "execution_count": 9,
      "outputs": []
    },
    {
      "cell_type": "code",
      "source": [
        "# Q9: How do you redirect to a different route in Flask?\n",
        "from flask import Flask, redirect, url_for\n",
        "\n",
        "app = Flask(__name__)\n",
        "\n",
        "@app.route('/old-page')\n",
        "def old():\n",
        "    return redirect(url_for('new'))\n",
        "\n",
        "@app.route('/new-page')\n",
        "def new():\n",
        "    return \"This is the new page.\"\n"
      ],
      "metadata": {
        "id": "JPEWXqUnPmyI"
      },
      "execution_count": 10,
      "outputs": []
    },
    {
      "cell_type": "code",
      "source": [
        "# Q10: How do you handle errors in Flask (e.g., 404)?\n",
        "from flask import Flask, render_template\n",
        "\n",
        "app = Flask(__name__)\n",
        "\n",
        "@app.errorhandler(404)\n",
        "def page_not_found(e):\n",
        "    return render_template('404.html'), 404\n",
        "    # 404.html:\n",
        "    # <h1>Page Not Found</h1>\n",
        "    # <p>Please check the URL and try again.</p>\n"
      ],
      "metadata": {
        "id": "fRXFZV93Pnl0"
      },
      "execution_count": 11,
      "outputs": []
    },
    {
      "cell_type": "code",
      "source": [
        "# Q11: How do you structure a Flask app using Blueprints?\n",
        "from flask import Flask, Blueprint\n",
        "\n",
        "bp = Blueprint('shop', __name__, url_prefix='/shop')\n",
        "\n",
        "@bp.route('/')\n",
        "def shop_home():\n",
        "    return \"Welcome to the shop\"\n",
        "\n",
        "def create_app():\n",
        "    app = Flask(__name__)\n",
        "    app.register_blueprint(bp)\n",
        "    return app\n"
      ],
      "metadata": {
        "id": "7qjYT0vOPoeT"
      },
      "execution_count": 12,
      "outputs": []
    },
    {
      "cell_type": "code",
      "source": [
        "# Q12: How do you define a custom Jinja filter in Flask?\n",
        "from flask import Flask\n",
        "\n",
        "app = Flask(__name__)\n",
        "\n",
        "@app.template_filter('reverse')\n",
        "def reverse_filter(s):\n",
        "    return s[::-1]\n",
        "\n",
        "# Usage in template: {{ \"hello\" | reverse }}  -> \"olleh\"\n"
      ],
      "metadata": {
        "id": "1lKe77GuPpP9"
      },
      "execution_count": 13,
      "outputs": []
    },
    {
      "cell_type": "code",
      "source": [
        "# Q13: How can you redirect with query parameters in Flask?\n",
        "from flask import Flask, redirect, url_for\n",
        "\n",
        "app = Flask(__name__)\n",
        "\n",
        "@app.route('/search')\n",
        "def search():\n",
        "    query = 'flask'\n",
        "    return redirect(url_for('results', q=query))\n",
        "\n",
        "@app.route('/results')\n",
        "def results():\n",
        "    from flask import request\n",
        "    return f\"Search query: {request.args.get('q')}\"\n"
      ],
      "metadata": {
        "id": "mws8qhglPp9t"
      },
      "execution_count": 14,
      "outputs": []
    },
    {
      "cell_type": "code",
      "source": [
        "# Q14: How do you return JSON responses in Flask?\n",
        "from flask import Flask, jsonify\n",
        "\n",
        "app = Flask(__name__)\n",
        "\n",
        "@app.route('/api/data')\n",
        "def data():\n",
        "    return jsonify({'name': 'Suneeth', 'age': 30})\n"
      ],
      "metadata": {
        "id": "0T4ClTBqPq1i"
      },
      "execution_count": 15,
      "outputs": []
    },
    {
      "cell_type": "code",
      "source": [
        "# Q15: How do you capture URL parameters in Flask?\n",
        "from flask import Flask\n",
        "\n",
        "app = Flask(__name__)\n",
        "\n",
        "@app.route('/item/<int:item_id>')\n",
        "def get_item(item_id):\n",
        "    return f\"Item ID: {item_id}\"\n"
      ],
      "metadata": {
        "id": "qeeDT7_GPri9"
      },
      "execution_count": 16,
      "outputs": []
    }
  ]
}